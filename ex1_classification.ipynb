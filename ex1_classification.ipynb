{
  "cells": [
    {
      "cell_type": "code",
      "source": [
        "import pandas as pd\n",
        "from sklearn.neighbors import KNeighborsClassifier\n",
        "from sklearn.utils import shuffle\n",
        "import matplotlib.pyplot as plt\n",
        "from sklearn.model_selection import GridSearchCV\n",
        "from sklearn.preprocessing import StandardScaler\n",
        "import numpy as np\n",
        "from sklearn.metrics import accuracy_score\n",
        "%matplotlib inline"
      ],
      "outputs": [],
      "execution_count": 10,
      "metadata": {
        "collapsed": false,
        "outputHidden": false,
        "inputHidden": false
      }
    },
    {
      "cell_type": "code",
      "source": [
        "#importing the data\n",
        "mnist = pd.read_csv('./MNIST/train_final.csv')\n",
        "mnist_test = pd.read_csv('./MNIST/test_final.csv')"
      ],
      "outputs": [],
      "execution_count": 2,
      "metadata": {
        "collapsed": false,
        "outputHidden": false,
        "inputHidden": false
      }
    },
    {
      "cell_type": "code",
      "source": [
        "#Shuffling the dataset\n",
        "mnist = shuffle(mnist)\n",
        "mnist_test = shuffle(mnist_test)"
      ],
      "outputs": [],
      "execution_count": 3,
      "metadata": {
        "collapsed": false,
        "outputHidden": false,
        "inputHidden": false
      }
    },
    {
      "cell_type": "code",
      "source": [
        "#Splitting into train and test\n",
        "X_train = mnist.ix[:,1:]\n",
        "X_test = mnist.ix[:,1:]\n",
        "y_train = mnist.ix[:,0]\n",
        "y_test = mnist.ix[:,0]"
      ],
      "outputs": [],
      "execution_count": 5,
      "metadata": {
        "collapsed": false,
        "outputHidden": false,
        "inputHidden": false
      }
    },
    {
      "cell_type": "code",
      "source": [
        "dig = X_train.ix[25000,:]\n",
        "dig1 = dig.reshape(28,28)\n",
        "plt.imshow(dig1)\n",
        "print(y_train[25000])"
      ],
      "outputs": [
        {
          "output_type": "stream",
          "name": "stdout",
          "text": [
            "6\n"
          ]
        },
        {
          "output_type": "stream",
          "name": "stderr",
          "text": [
            "C:\\Users\\nisha\\AppData\\Local\\Enthought\\Canopy\\edm\\envs\\User\\lib\\site-packages\\ipykernel\\__main__.py:2: FutureWarning: reshape is deprecated and will raise in a subsequent release. Please use .values.reshape(...) instead\n",
            "  from ipykernel import kernelapp as app\n"
          ]
        },
        {
          "output_type": "display_data",
          "data": {
            "image/png": "[encoded data removed]",
            "text/plain": [
              "<matplotlib.figure.Figure at 0x1ba008a55f8>"
            ]
          },
          "metadata": {}
        }
      ],
      "execution_count": 32,
      "metadata": {
        "collapsed": false,
        "outputHidden": false,
        "inputHidden": false
      }
    },
    {
      "cell_type": "code",
      "source": [
        "#scaling the input \n",
        "sc= StandardScaler()\n",
        "X_train_sc = sc.fit_transform(X_train.astype(np.float64))"
      ],
      "outputs": [],
      "execution_count": 6,
      "metadata": {
        "collapsed": false,
        "outputHidden": false,
        "inputHidden": false
      }
    },
    {
      "cell_type": "markdown",
      "source": [
        "Fine tune hyperparameter using gridsearchCV for K nearest neighbors"
      ],
      "metadata": {}
    },
    {
      "cell_type": "code",
      "source": [
        "grid_p = [{'weights' : ['uniform', 'distance'], 'n_neighbors' : [5,10]}]\n",
        "nclassifier  = KNeighborsClassifier()\n",
        "grid_search = GridSearchCV(nclassifier, grid_p, cv=5, verbose=3)\n",
        "grid_search.fit(X_train_sc,y_train)"
      ],
      "outputs": [
        {
          "output_type": "stream",
          "name": "stdout",
          "text": [
            "Fitting 5 folds for each of 4 candidates, totalling 20 fits\n",
            "[CV] weights=uniform, n_neighbors=5 ..................................\n",
            "[CV] ... weights=uniform, n_neighbors=5, score=0.934008, total= 5.6min\n",
            "[CV] weights=uniform, n_neighbors=5 ..................................\n",
            "[CV] ... weights=uniform, n_neighbors=5, score=0.933038, total= 5.3min\n",
            "[CV] weights=uniform, n_neighbors=5 ..................................\n",
            "[CV] ... weights=uniform, n_neighbors=5, score=0.937179, total= 5.9min\n",
            "[CV] weights=uniform, n_neighbors=5 ..................................\n",
            "[CV] ... weights=uniform, n_neighbors=5, score=0.934656, total= 5.0min\n",
            "[CV] weights=uniform, n_neighbors=5 ..................................\n",
            "[CV] ... weights=uniform, n_neighbors=5, score=0.936442, total= 5.1min\n",
            "[CV] weights=distance, n_neighbors=5 .................................\n",
            "[CV] .. weights=distance, n_neighbors=5, score=0.935256, total= 5.0min\n",
            "[CV] weights=distance, n_neighbors=5 .................................\n",
            "[CV] .. weights=distance, n_neighbors=5, score=0.936088, total= 5.0min\n",
            "[CV] weights=distance, n_neighbors=5 .................................\n",
            "[CV] .. weights=distance, n_neighbors=5, score=0.938566, total= 5.2min\n",
            "[CV] weights=distance, n_neighbors=5 .................................\n",
            "[CV] .. weights=distance, n_neighbors=5, score=0.938124, total= 5.1min\n",
            "[CV] weights=distance, n_neighbors=5 .................................\n",
            "[CV] .. weights=distance, n_neighbors=5, score=0.939079, total= 5.2min\n",
            "[CV] weights=uniform, n_neighbors=10 .................................\n",
            "[CV] .. weights=uniform, n_neighbors=10, score=0.929849, total= 5.1min\n",
            "[CV] weights=uniform, n_neighbors=10 .................................\n",
            "[CV] .. weights=uniform, n_neighbors=10, score=0.928047, total= 5.1min\n",
            "[CV] weights=uniform, n_neighbors=10 .................................\n",
            "[CV] .. weights=uniform, n_neighbors=10, score=0.927611, total= 5.1min\n",
            "[CV] weights=uniform, n_neighbors=10 .................................\n",
            "[CV] .. weights=uniform, n_neighbors=10, score=0.931326, total= 5.0min\n",
            "[CV] weights=uniform, n_neighbors=10 .................................\n",
            "[CV] .. weights=uniform, n_neighbors=10, score=0.930336, total= 5.1min\n",
            "[CV] weights=distance, n_neighbors=10 ................................\n",
            "[CV] . weights=distance, n_neighbors=10, score=0.933176, total= 5.0min\n",
            "[CV] weights=distance, n_neighbors=10 ................................\n",
            "[CV] . weights=distance, n_neighbors=10, score=0.931235, total= 5.1min\n",
            "[CV] weights=distance, n_neighbors=10 ................................\n",
            "[CV] . weights=distance, n_neighbors=10, score=0.933712, total=27.1min\n",
            "[CV] weights=distance, n_neighbors=10 ................................\n",
            "[CV] . weights=distance, n_neighbors=10, score=0.936043, total= 5.1min\n",
            "[CV] weights=distance, n_neighbors=10 ................................\n",
            "[CV] . weights=distance, n_neighbors=10, score=0.934777, total= 5.2min\n"
          ]
        },
        {
          "output_type": "stream",
          "name": "stderr",
          "text": [
            "[Parallel(n_jobs=1)]: Done   1 out of   1 | elapsed: 25.9min remaining:    0.0s\n",
            "[Parallel(n_jobs=1)]: Done   2 out of   2 | elapsed: 51.1min remaining:    0.0s\n",
            "[Parallel(n_jobs=1)]: Done  20 out of  20 | elapsed: 527.0min finished\n"
          ]
        },
        {
          "output_type": "execute_result",
          "execution_count": 7,
          "data": {
            "text/plain": [
              "GridSearchCV(cv=5, error_score='raise',\n",
              "       estimator=KNeighborsClassifier(algorithm='auto', leaf_size=30, metric='minkowski',\n",
              "           metric_params=None, n_jobs=1, n_neighbors=5, p=2,\n",
              "           weights='uniform'),\n",
              "       fit_params={}, iid=True, n_jobs=1,\n",
              "       param_grid=[{'n_neighbors': [5, 10], 'weights': ['uniform', 'distance']}],\n",
              "       pre_dispatch='2*n_jobs', refit=True, return_train_score=True,\n",
              "       scoring=None, verbose=3)"
            ]
          },
          "metadata": {}
        }
      ],
      "execution_count": 7,
      "metadata": {
        "collapsed": false,
        "outputHidden": false,
        "inputHidden": false
      }
    },
    {
      "cell_type": "code",
      "source": [
        "#identifying the best parameters\n",
        "grid_search.best_params_"
      ],
      "outputs": [
        {
          "output_type": "execute_result",
          "execution_count": 8,
          "data": {
            "text/plain": [
              "{'n_neighbors': 5, 'weights': 'distance'}"
            ]
          },
          "metadata": {}
        }
      ],
      "execution_count": 8,
      "metadata": {
        "collapsed": false,
        "outputHidden": false,
        "inputHidden": false
      }
    },
    {
      "cell_type": "code",
      "source": [
        "grid_search.best_score_"
      ],
      "outputs": [
        {
          "output_type": "execute_result",
          "execution_count": 9,
          "data": {
            "text/plain": [
              "0.93742198552051259"
            ]
          },
          "metadata": {}
        }
      ],
      "execution_count": 9,
      "metadata": {
        "collapsed": false,
        "outputHidden": false,
        "inputHidden": false
      }
    },
    {
      "cell_type": "code",
      "source": [
        "y_pred = grid_search.predict(X_test)\n",
        "accuracy_score(y_test, y_pred)"
      ],
      "outputs": [
        {
          "output_type": "execute_result",
          "execution_count": 11,
          "data": {
            "text/plain": [
              "0.82250145627028382"
            ]
          },
          "metadata": {}
        }
      ],
      "execution_count": 11,
      "metadata": {
        "collapsed": false,
        "outputHidden": false,
        "inputHidden": false
      }
    }
  ],
  "metadata": {
    "kernelspec": {
      "name": "python3",
      "language": "python",
      "display_name": "Python 3"
    },
    "kernel_info": {
      "name": "python3"
    },
    "nteract": {
      "version": "0.5.5"
    },
    "language_info": {
      "version": "3.5.2",
      "nbconvert_exporter": "python",
      "mimetype": "text/x-python",
      "pygments_lexer": "ipython3",
      "codemirror_mode": {
        "version": 3,
        "name": "ipython"
      },
      "name": "python",
      "file_extension": ".py"
    }
  },
  "nbformat": 4,
  "nbformat_minor": 4
}